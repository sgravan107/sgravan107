{
  "nbformat": 4,
  "nbformat_minor": 0,
  "metadata": {
    "colab": {
      "provenance": [],
      "authorship_tag": "ABX9TyP0AmQtnWdznjDkfD6b63lJ",
      "include_colab_link": true
    },
    "kernelspec": {
      "name": "python3",
      "display_name": "Python 3"
    },
    "language_info": {
      "name": "python"
    }
  },
  "cells": [
    {
      "cell_type": "markdown",
      "metadata": {
        "id": "view-in-github",
        "colab_type": "text"
      },
      "source": [
        "<a href=\"https://colab.research.google.com/github/sgravan107/sgravan107/blob/main/WM_811k.ipynb\" target=\"_parent\"><img src=\"https://colab.research.google.com/assets/colab-badge.svg\" alt=\"Open In Colab\"/></a>"
      ]
    },
    {
      "cell_type": "code",
      "execution_count": null,
      "metadata": {
        "id": "XlPyimqO3aQr"
      },
      "outputs": [],
      "source": [
        "!pip install torch torchvision scikit-learn matplotlib opencv-python kaggle -q\n"
      ]
    },
    {
      "cell_type": "code",
      "source": [
        "import os, zipfile, pathlib\n",
        "from pathlib import Path\n",
        "\n",
        "# Upload kaggle.json once per session\n",
        "from google.colab import files\n",
        "files.upload()  # select kaggle.json\n",
        "\n",
        "!mkdir -p ~/.kaggle\n",
        "!cp kaggle.json ~/.kaggle/\n",
        "!chmod 600 ~/.kaggle/kaggle.json\n",
        "\n",
        "# Download WM-811K\n",
        "!kaggle datasets download -d qingyi/wm811k-wafer-map -p ./data && ls -lh ./data\n",
        "!unzip -q -o ./data/wm811k-wafer-map.zip -d ./data/wm811k\n",
        "!ls -R ./data/wm811k | head -n 50\n"
      ],
      "metadata": {
        "colab": {
          "base_uri": "https://localhost:8080/",
          "height": 229
        },
        "id": "VuUbBq5i3fFF",
        "outputId": "7972d2cb-ac08-445f-b3f5-73058d272d31"
      },
      "execution_count": null,
      "outputs": [
        {
          "output_type": "display_data",
          "data": {
            "text/plain": [
              "<IPython.core.display.HTML object>"
            ],
            "text/html": [
              "\n",
              "     <input type=\"file\" id=\"files-51720993-02b7-445d-9240-5f86a78d7a78\" name=\"files[]\" multiple disabled\n",
              "        style=\"border:none\" />\n",
              "     <output id=\"result-51720993-02b7-445d-9240-5f86a78d7a78\">\n",
              "      Upload widget is only available when the cell has been executed in the\n",
              "      current browser session. Please rerun this cell to enable.\n",
              "      </output>\n",
              "      <script>// Copyright 2017 Google LLC\n",
              "//\n",
              "// Licensed under the Apache License, Version 2.0 (the \"License\");\n",
              "// you may not use this file except in compliance with the License.\n",
              "// You may obtain a copy of the License at\n",
              "//\n",
              "//      http://www.apache.org/licenses/LICENSE-2.0\n",
              "//\n",
              "// Unless required by applicable law or agreed to in writing, software\n",
              "// distributed under the License is distributed on an \"AS IS\" BASIS,\n",
              "// WITHOUT WARRANTIES OR CONDITIONS OF ANY KIND, either express or implied.\n",
              "// See the License for the specific language governing permissions and\n",
              "// limitations under the License.\n",
              "\n",
              "/**\n",
              " * @fileoverview Helpers for google.colab Python module.\n",
              " */\n",
              "(function(scope) {\n",
              "function span(text, styleAttributes = {}) {\n",
              "  const element = document.createElement('span');\n",
              "  element.textContent = text;\n",
              "  for (const key of Object.keys(styleAttributes)) {\n",
              "    element.style[key] = styleAttributes[key];\n",
              "  }\n",
              "  return element;\n",
              "}\n",
              "\n",
              "// Max number of bytes which will be uploaded at a time.\n",
              "const MAX_PAYLOAD_SIZE = 100 * 1024;\n",
              "\n",
              "function _uploadFiles(inputId, outputId) {\n",
              "  const steps = uploadFilesStep(inputId, outputId);\n",
              "  const outputElement = document.getElementById(outputId);\n",
              "  // Cache steps on the outputElement to make it available for the next call\n",
              "  // to uploadFilesContinue from Python.\n",
              "  outputElement.steps = steps;\n",
              "\n",
              "  return _uploadFilesContinue(outputId);\n",
              "}\n",
              "\n",
              "// This is roughly an async generator (not supported in the browser yet),\n",
              "// where there are multiple asynchronous steps and the Python side is going\n",
              "// to poll for completion of each step.\n",
              "// This uses a Promise to block the python side on completion of each step,\n",
              "// then passes the result of the previous step as the input to the next step.\n",
              "function _uploadFilesContinue(outputId) {\n",
              "  const outputElement = document.getElementById(outputId);\n",
              "  const steps = outputElement.steps;\n",
              "\n",
              "  const next = steps.next(outputElement.lastPromiseValue);\n",
              "  return Promise.resolve(next.value.promise).then((value) => {\n",
              "    // Cache the last promise value to make it available to the next\n",
              "    // step of the generator.\n",
              "    outputElement.lastPromiseValue = value;\n",
              "    return next.value.response;\n",
              "  });\n",
              "}\n",
              "\n",
              "/**\n",
              " * Generator function which is called between each async step of the upload\n",
              " * process.\n",
              " * @param {string} inputId Element ID of the input file picker element.\n",
              " * @param {string} outputId Element ID of the output display.\n",
              " * @return {!Iterable<!Object>} Iterable of next steps.\n",
              " */\n",
              "function* uploadFilesStep(inputId, outputId) {\n",
              "  const inputElement = document.getElementById(inputId);\n",
              "  inputElement.disabled = false;\n",
              "\n",
              "  const outputElement = document.getElementById(outputId);\n",
              "  outputElement.innerHTML = '';\n",
              "\n",
              "  const pickedPromise = new Promise((resolve) => {\n",
              "    inputElement.addEventListener('change', (e) => {\n",
              "      resolve(e.target.files);\n",
              "    });\n",
              "  });\n",
              "\n",
              "  const cancel = document.createElement('button');\n",
              "  inputElement.parentElement.appendChild(cancel);\n",
              "  cancel.textContent = 'Cancel upload';\n",
              "  const cancelPromise = new Promise((resolve) => {\n",
              "    cancel.onclick = () => {\n",
              "      resolve(null);\n",
              "    };\n",
              "  });\n",
              "\n",
              "  // Wait for the user to pick the files.\n",
              "  const files = yield {\n",
              "    promise: Promise.race([pickedPromise, cancelPromise]),\n",
              "    response: {\n",
              "      action: 'starting',\n",
              "    }\n",
              "  };\n",
              "\n",
              "  cancel.remove();\n",
              "\n",
              "  // Disable the input element since further picks are not allowed.\n",
              "  inputElement.disabled = true;\n",
              "\n",
              "  if (!files) {\n",
              "    return {\n",
              "      response: {\n",
              "        action: 'complete',\n",
              "      }\n",
              "    };\n",
              "  }\n",
              "\n",
              "  for (const file of files) {\n",
              "    const li = document.createElement('li');\n",
              "    li.append(span(file.name, {fontWeight: 'bold'}));\n",
              "    li.append(span(\n",
              "        `(${file.type || 'n/a'}) - ${file.size} bytes, ` +\n",
              "        `last modified: ${\n",
              "            file.lastModifiedDate ? file.lastModifiedDate.toLocaleDateString() :\n",
              "                                    'n/a'} - `));\n",
              "    const percent = span('0% done');\n",
              "    li.appendChild(percent);\n",
              "\n",
              "    outputElement.appendChild(li);\n",
              "\n",
              "    const fileDataPromise = new Promise((resolve) => {\n",
              "      const reader = new FileReader();\n",
              "      reader.onload = (e) => {\n",
              "        resolve(e.target.result);\n",
              "      };\n",
              "      reader.readAsArrayBuffer(file);\n",
              "    });\n",
              "    // Wait for the data to be ready.\n",
              "    let fileData = yield {\n",
              "      promise: fileDataPromise,\n",
              "      response: {\n",
              "        action: 'continue',\n",
              "      }\n",
              "    };\n",
              "\n",
              "    // Use a chunked sending to avoid message size limits. See b/62115660.\n",
              "    let position = 0;\n",
              "    do {\n",
              "      const length = Math.min(fileData.byteLength - position, MAX_PAYLOAD_SIZE);\n",
              "      const chunk = new Uint8Array(fileData, position, length);\n",
              "      position += length;\n",
              "\n",
              "      const base64 = btoa(String.fromCharCode.apply(null, chunk));\n",
              "      yield {\n",
              "        response: {\n",
              "          action: 'append',\n",
              "          file: file.name,\n",
              "          data: base64,\n",
              "        },\n",
              "      };\n",
              "\n",
              "      let percentDone = fileData.byteLength === 0 ?\n",
              "          100 :\n",
              "          Math.round((position / fileData.byteLength) * 100);\n",
              "      percent.textContent = `${percentDone}% done`;\n",
              "\n",
              "    } while (position < fileData.byteLength);\n",
              "  }\n",
              "\n",
              "  // All done.\n",
              "  yield {\n",
              "    response: {\n",
              "      action: 'complete',\n",
              "    }\n",
              "  };\n",
              "}\n",
              "\n",
              "scope.google = scope.google || {};\n",
              "scope.google.colab = scope.google.colab || {};\n",
              "scope.google.colab._files = {\n",
              "  _uploadFiles,\n",
              "  _uploadFilesContinue,\n",
              "};\n",
              "})(self);\n",
              "</script> "
            ]
          },
          "metadata": {}
        },
        {
          "output_type": "stream",
          "name": "stdout",
          "text": [
            "Saving kaggle.json to kaggle.json\n",
            "Dataset URL: https://www.kaggle.com/datasets/qingyi/wm811k-wafer-map\n",
            "License(s): CC0-1.0\n",
            "Downloading wm811k-wafer-map.zip to ./data\n",
            "  0% 0.00/149M [00:00<?, ?B/s]\n",
            "100% 149M/149M [00:00<00:00, 1.61GB/s]\n",
            "total 150M\n",
            "-rw-r--r-- 1 root root 150M Sep 27  2019 wm811k-wafer-map.zip\n",
            "./data/wm811k:\n",
            "LSWMD.pkl\n"
          ]
        }
      ]
    },
    {
      "cell_type": "code",
      "source": [
        "import pandas as pd\n",
        "import numpy as np\n",
        "from pathlib import Path\n",
        "\n",
        "base = Path(\"./data/wm811k\")\n",
        "# Find the pickle\n",
        "pkl_candidates = list(base.rglob(\"*.pkl\"))\n",
        "assert len(pkl_candidates) > 0, \"Could not find a .pkl file in the dataset\"\n",
        "pkl_path = pkl_candidates[0]\n",
        "print(\"Using:\", pkl_path)\n",
        "\n",
        "df = pd.read_pickle(pkl_path)\n",
        "print(\"Columns:\", df.columns.tolist() if hasattr(df, \"columns\") else type(df))\n",
        "\n",
        "# Many releases store records in a pandas DataFrame with columns like:\n",
        "# 'waferMap' (numpy array), 'failureType' (string label), sometimes 'dieSize', 'trianTestLabel'\n",
        "# If yours differs, print a row to see keys and adjust the names below.\n",
        "\n",
        "# Infer column names safely\n",
        "wafer_key = \"waferMap\" if \"waferMap\" in df.columns else [c for c in df.columns if \"wafer\" in c.lower()][0]\n",
        "label_key = \"failureType\" if \"failureType\" in df.columns else [c for c in df.columns if \"label\" in c.lower()][0]\n",
        "\n",
        "# Keep only labeled rows\n",
        "df = df[~df[label_key].isna()].reset_index(drop=True)\n",
        "df = df.rename(columns={wafer_key:\"wafer\", label_key:\"label\"})\n",
        "df[\"label\"] = df[\"label\"].astype(str)\n",
        "\n",
        "# Basic stats\n",
        "df[\"label\"].value_counts()\n"
      ],
      "metadata": {
        "colab": {
          "base_uri": "https://localhost:8080/",
          "height": 484
        },
        "id": "cRF-XLTX3lIY",
        "outputId": "bbc0900c-b100-403d-fac3-5bbbf840acf2"
      },
      "execution_count": null,
      "outputs": [
        {
          "output_type": "stream",
          "name": "stdout",
          "text": [
            "Using: data/wm811k/LSWMD.pkl\n",
            "Columns: ['waferMap', 'dieSize', 'lotName', 'waferIndex', 'trianTestLabel', 'failureType']\n"
          ]
        },
        {
          "output_type": "execute_result",
          "data": {
            "text/plain": [
              "label\n",
              "[]                 638507\n",
              "[['none']]         147431\n",
              "[['Edge-Ring']]      9680\n",
              "[['Edge-Loc']]       5189\n",
              "[['Center']]         4294\n",
              "[['Loc']]            3593\n",
              "[['Scratch']]        1193\n",
              "[['Random']]          866\n",
              "[['Donut']]           555\n",
              "[['Near-full']]       149\n",
              "Name: count, dtype: int64"
            ],
            "text/html": [
              "<div>\n",
              "<style scoped>\n",
              "    .dataframe tbody tr th:only-of-type {\n",
              "        vertical-align: middle;\n",
              "    }\n",
              "\n",
              "    .dataframe tbody tr th {\n",
              "        vertical-align: top;\n",
              "    }\n",
              "\n",
              "    .dataframe thead th {\n",
              "        text-align: right;\n",
              "    }\n",
              "</style>\n",
              "<table border=\"1\" class=\"dataframe\">\n",
              "  <thead>\n",
              "    <tr style=\"text-align: right;\">\n",
              "      <th></th>\n",
              "      <th>count</th>\n",
              "    </tr>\n",
              "    <tr>\n",
              "      <th>label</th>\n",
              "      <th></th>\n",
              "    </tr>\n",
              "  </thead>\n",
              "  <tbody>\n",
              "    <tr>\n",
              "      <th>[]</th>\n",
              "      <td>638507</td>\n",
              "    </tr>\n",
              "    <tr>\n",
              "      <th>[['none']]</th>\n",
              "      <td>147431</td>\n",
              "    </tr>\n",
              "    <tr>\n",
              "      <th>[['Edge-Ring']]</th>\n",
              "      <td>9680</td>\n",
              "    </tr>\n",
              "    <tr>\n",
              "      <th>[['Edge-Loc']]</th>\n",
              "      <td>5189</td>\n",
              "    </tr>\n",
              "    <tr>\n",
              "      <th>[['Center']]</th>\n",
              "      <td>4294</td>\n",
              "    </tr>\n",
              "    <tr>\n",
              "      <th>[['Loc']]</th>\n",
              "      <td>3593</td>\n",
              "    </tr>\n",
              "    <tr>\n",
              "      <th>[['Scratch']]</th>\n",
              "      <td>1193</td>\n",
              "    </tr>\n",
              "    <tr>\n",
              "      <th>[['Random']]</th>\n",
              "      <td>866</td>\n",
              "    </tr>\n",
              "    <tr>\n",
              "      <th>[['Donut']]</th>\n",
              "      <td>555</td>\n",
              "    </tr>\n",
              "    <tr>\n",
              "      <th>[['Near-full']]</th>\n",
              "      <td>149</td>\n",
              "    </tr>\n",
              "  </tbody>\n",
              "</table>\n",
              "</div><br><label><b>dtype:</b> int64</label>"
            ]
          },
          "metadata": {},
          "execution_count": 3
        }
      ]
    },
    {
      "cell_type": "code",
      "source": [
        "# Cap per class to keep it fast\n",
        "PER_CLASS = 500  # lower if you want even faster\n",
        "subset = []\n",
        "for cls, g in df.groupby(\"label\"):\n",
        "    subset.append(g.sample(min(PER_CLASS, len(g)), random_state=42))\n",
        "df_small = pd.concat(subset).sample(frac=1.0, random_state=42).reset_index(drop=True)\n",
        "\n",
        "classes = sorted(df_small[\"label\"].unique())\n",
        "cls_to_idx = {c:i for i,c in enumerate(classes)}\n",
        "len(df_small), classes[:10]\n"
      ],
      "metadata": {
        "colab": {
          "base_uri": "https://localhost:8080/"
        },
        "id": "gquE3SpC4__n",
        "outputId": "4fb8d2ba-5d04-4064-b2ef-2d0e35687aff"
      },
      "execution_count": null,
      "outputs": [
        {
          "output_type": "execute_result",
          "data": {
            "text/plain": [
              "(4649,\n",
              " [\"[['Center']]\",\n",
              "  \"[['Donut']]\",\n",
              "  \"[['Edge-Loc']]\",\n",
              "  \"[['Edge-Ring']]\",\n",
              "  \"[['Loc']]\",\n",
              "  \"[['Near-full']]\",\n",
              "  \"[['Random']]\",\n",
              "  \"[['Scratch']]\",\n",
              "  \"[['none']]\",\n",
              "  '[]'])"
            ]
          },
          "metadata": {},
          "execution_count": 4
        }
      ]
    },
    {
      "cell_type": "code",
      "source": [
        "import cv2\n",
        "\n",
        "def to_64x64(x):\n",
        "    # x is a 2D numpy array of integers 0 or 1 (sometimes more values)\n",
        "    x = x.astype(np.float32)\n",
        "    # Normalize to [0,1] if not already\n",
        "    if x.max() > 0:\n",
        "        x = x / x.max()\n",
        "    small = cv2.resize(x, (64, 64), interpolation=cv2.INTER_NEAREST)\n",
        "    return small\n",
        "\n",
        "X = []\n",
        "y = []\n",
        "for i,row in df_small.iterrows():\n",
        "    arr = row[\"wafer\"]\n",
        "    # Some datasets store wafer as list -> convert\n",
        "    arr = np.array(arr)\n",
        "    if arr.ndim == 3:\n",
        "        arr = arr[...,0]\n",
        "    X.append(to_64x64(arr))\n",
        "    y.append(cls_to_idx[row[\"label\"]])\n",
        "\n",
        "X = np.stack(X)                   # [N, 64, 64]\n",
        "y = np.array(y, dtype=np.int64)   # [N]\n",
        "X.shape, y.shape\n"
      ],
      "metadata": {
        "colab": {
          "base_uri": "https://localhost:8080/"
        },
        "id": "A9h8Sbpm5bx5",
        "outputId": "3e55c395-1906-4d4c-d87a-8564fabcf457"
      },
      "execution_count": null,
      "outputs": [
        {
          "output_type": "execute_result",
          "data": {
            "text/plain": [
              "((4649, 64, 64), (4649,))"
            ]
          },
          "metadata": {},
          "execution_count": 5
        }
      ]
    },
    {
      "cell_type": "code",
      "source": [
        "from sklearn.model_selection import train_test_split\n",
        "import torch\n",
        "from torch.utils.data import Dataset, DataLoader\n",
        "\n",
        "X_train, X_val, y_train, y_val = train_test_split(\n",
        "    X, y, test_size=0.2, random_state=42, stratify=y\n",
        ")\n",
        "\n",
        "class WaferDS(Dataset):\n",
        "    def __init__(self, X, y):\n",
        "        self.X = X\n",
        "        self.y = y\n",
        "    def __len__(self): return len(self.X)\n",
        "    def __getitem__(self, i):\n",
        "        img = torch.tensor(self.X[i]).float().unsqueeze(0)  # [1,64,64]\n",
        "        img = img.repeat(3,1,1)  # [3,64,64] for ResNet\n",
        "        label = torch.tensor(self.y[i]).long()\n",
        "        return img, label\n",
        "\n",
        "train_loader = DataLoader(WaferDS(X_train, y_train), batch_size=64, shuffle=True, num_workers=2)\n",
        "val_loader   = DataLoader(WaferDS(X_val,   y_val),   batch_size=64, shuffle=False, num_workers=2)\n",
        "len(train_loader), len(val_loader)\n"
      ],
      "metadata": {
        "colab": {
          "base_uri": "https://localhost:8080/"
        },
        "id": "0Aeyu9jP5vWF",
        "outputId": "93a89f86-8300-4a76-fcd5-a846f63ec6e1"
      },
      "execution_count": null,
      "outputs": [
        {
          "output_type": "execute_result",
          "data": {
            "text/plain": [
              "(59, 15)"
            ]
          },
          "metadata": {},
          "execution_count": 6
        }
      ]
    },
    {
      "cell_type": "code",
      "source": [
        "import torch.nn as nn\n",
        "from torchvision import models\n",
        "\n",
        "device = \"cuda\" if torch.cuda.is_available() else \"cpu\"\n",
        "num_classes = len(classes)\n",
        "\n",
        "model = models.resnet18(weights=None)\n",
        "model.fc = nn.Linear(model.fc.in_features, num_classes)\n",
        "model = model.to(device)\n",
        "\n",
        "opt = torch.optim.AdamW(model.parameters(), lr=1e-3)\n",
        "criterion = nn.CrossEntropyLoss()\n"
      ],
      "metadata": {
        "id": "8CuA7_hU5z1t"
      },
      "execution_count": null,
      "outputs": []
    },
    {
      "cell_type": "code",
      "source": [
        "from sklearn.metrics import f1_score, accuracy_score\n",
        "import numpy as np\n",
        "\n",
        "def evaluate():\n",
        "    model.eval()\n",
        "    ys, ps = [], []\n",
        "    with torch.no_grad():\n",
        "        for xb, yb in val_loader:\n",
        "            xb, yb = xb.to(device), yb.to(device)\n",
        "            logits = model(xb)\n",
        "            pred = logits.argmax(1)\n",
        "            ys.extend(yb.cpu().tolist())\n",
        "            ps.extend(pred.cpu().tolist())\n",
        "    acc = accuracy_score(ys, ps)\n",
        "    f1  = f1_score(ys, ps, average=\"macro\")\n",
        "    return acc, f1\n",
        "\n",
        "EPOCHS = 15  # bump to 10–15 later\n",
        "for ep in range(1, EPOCHS+1):\n",
        "    model.train()\n",
        "    for xb, yb in train_loader:\n",
        "        xb, yb = xb.to(device), yb.to(device)\n",
        "        opt.zero_grad()\n",
        "        loss = criterion(model(xb), yb)\n",
        "        loss.backward()\n",
        "        opt.step()\n",
        "    acc, f1 = evaluate()\n",
        "    print(f\"Epoch {ep} | val acc {acc:.3f} | val macro-F1 {f1:.3f}\")\n"
      ],
      "metadata": {
        "colab": {
          "base_uri": "https://localhost:8080/"
        },
        "id": "LJUmK2fo559e",
        "outputId": "f22bd494-a226-44aa-909c-b23e04f2048f"
      },
      "execution_count": null,
      "outputs": [
        {
          "output_type": "stream",
          "name": "stdout",
          "text": [
            "Epoch 1 | val acc 0.666 | val macro-F1 0.656\n",
            "Epoch 2 | val acc 0.709 | val macro-F1 0.717\n",
            "Epoch 3 | val acc 0.703 | val macro-F1 0.705\n",
            "Epoch 4 | val acc 0.563 | val macro-F1 0.561\n",
            "Epoch 5 | val acc 0.684 | val macro-F1 0.698\n",
            "Epoch 6 | val acc 0.677 | val macro-F1 0.684\n",
            "Epoch 7 | val acc 0.726 | val macro-F1 0.733\n",
            "Epoch 8 | val acc 0.696 | val macro-F1 0.709\n",
            "Epoch 9 | val acc 0.718 | val macro-F1 0.730\n",
            "Epoch 10 | val acc 0.718 | val macro-F1 0.733\n",
            "Epoch 11 | val acc 0.698 | val macro-F1 0.702\n",
            "Epoch 12 | val acc 0.710 | val macro-F1 0.710\n",
            "Epoch 13 | val acc 0.724 | val macro-F1 0.729\n",
            "Epoch 14 | val acc 0.720 | val macro-F1 0.730\n",
            "Epoch 15 | val acc 0.682 | val macro-F1 0.673\n"
          ]
        }
      ]
    },
    {
      "cell_type": "code",
      "source": [
        "import matplotlib.pyplot as plt\n",
        "\n",
        "model.eval()\n",
        "xb, yb = next(iter(val_loader))\n",
        "with torch.no_grad():\n",
        "    logits = model(xb.to(device))\n",
        "    preds = logits.argmax(1).cpu().numpy()\n",
        "\n",
        "plt.figure(figsize=(10,4))\n",
        "for i in range(6):\n",
        "    plt.subplot(2,3,i+1)\n",
        "    plt.imshow(xb[i,0].numpy(), cmap=\"gray\")\n",
        "    plt.title(f\"pred: {classes[preds[i]]}\\ntrue: {classes[yb[i].item()]}\")\n",
        "    plt.axis(\"off\")\n",
        "plt.tight_layout(); plt.show()\n"
      ],
      "metadata": {
        "colab": {
          "base_uri": "https://localhost:8080/",
          "height": 365
        },
        "id": "FDpx-Xl76Iq5",
        "outputId": "a1842b08-7897-44d1-d1d5-7ee6e2d456f3"
      },
      "execution_count": null,
      "outputs": [
        {
          "output_type": "display_data",
          "data": {
            "text/plain": [
              "<Figure size 1000x400 with 6 Axes>"
            ],
            "image/png": "[encoded data removed]"
          },
          "metadata": {}
        }
      ]
    },
    {
      "cell_type": "code",
      "source": [
        "!pip install -q grad-cam\n",
        "from pytorch_grad_cam import GradCAM\n",
        "from pytorch_grad_cam.utils.image import show_cam_on_image\n",
        "import matplotlib.pyplot as plt\n",
        "\n",
        "model.eval()\n",
        "target_layer = model.layer4[-1]\n",
        "\n",
        "cam = None\n",
        "try:\n",
        "    cam = GradCAM(model=model, target_layers=[target_layer])\n",
        "\n",
        "    img = xb[0:1].to(device)\n",
        "    grayscale_cam = cam(input_tensor=img)[0]\n",
        "    base = xb[0].permute(1,2,0).numpy()\n",
        "    base = base / (base.max() + 1e-6)\n",
        "    heat = show_cam_on_image(base, grayscale_cam, use_rgb=True)\n",
        "\n",
        "    plt.imshow(heat); plt.axis(\"off\"); plt.title(\"Grad-CAM\")\n",
        "    plt.show()\n",
        "finally:\n",
        "    if cam is not None:\n",
        "        cam.activations_and_grads.release()"
      ],
      "metadata": {
        "colab": {
          "base_uri": "https://localhost:8080/",
          "height": 428
        },
        "id": "f7JkFJqb89TE",
        "outputId": "4f34c320-018e-4ab5-b108-05e75313c469"
      },
      "execution_count": null,
      "outputs": [
        {
          "output_type": "display_data",
          "data": {
            "text/plain": [
              "<Figure size 640x480 with 1 Axes>"
            ],
            "image/png": "[encoded data removed]"
          },
          "metadata": {}
        }
      ]
    },
    {
      "cell_type": "code",
      "source": [
        "df"
      ],
      "metadata": {
        "colab": {
          "base_uri": "https://localhost:8080/",
          "height": 141
        },
        "id": "xd_yuRvD-E6a",
        "outputId": "2ce5ae28-cf23-4e9f-8142-4cbb1bd39bd9"
      },
      "execution_count": null,
      "outputs": [
        {
          "output_type": "error",
          "ename": "NameError",
          "evalue": "name 'df' is not defined",
          "traceback": [
            "\u001b[0;31m---------------------------------------------------------------------------\u001b[0m",
            "\u001b[0;31mNameError\u001b[0m                                 Traceback (most recent call last)",
            "\u001b[0;32m/tmp/ipython-input-1396537375.py\u001b[0m in \u001b[0;36m<cell line: 0>\u001b[0;34m()\u001b[0m\n\u001b[0;32m----> 1\u001b[0;31m \u001b[0mdf\u001b[0m\u001b[0;34m\u001b[0m\u001b[0;34m\u001b[0m\u001b[0m\n\u001b[0m",
            "\u001b[0;31mNameError\u001b[0m: name 'df' is not defined"
          ]
        }
      ]
    },
    {
      "cell_type": "code",
      "source": [],
      "metadata": {
        "id": "iQtF67pmErDP"
      },
      "execution_count": null,
      "outputs": []
    }
  ]
}